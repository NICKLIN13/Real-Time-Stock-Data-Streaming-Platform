{
 "cells": [
  {
   "cell_type": "code",
   "execution_count": null,
   "id": "1ea6b5c1",
   "metadata": {
    "vscode": {
     "languageId": "plaintext"
    }
   },
   "outputs": [],
   "source": [
    "%flink.ssql\n",
    "SELECT *\n",
    "FROM stock_table\n",
    "MATCH_RECOGNIZE(\n",
    "\tPARTITION BY ticker\n",
    "\tORDER BY event_time\n",
    "\tMEASURES\n",
    "\t    A.event_time AS event_time, \n",
    "\t\tA.`date` AS initialPriceDate, \n",
    "\t\tC. `date` AS dropDate, \n",
    "\t\t(100 * (A.close_price - C.close_price) / A.close_price) AS dropPercentage, \n",
    "\t\tA.close_price AS initialPrice, \n",
    "\t\tC.close_price AS lastPrice\n",
    "\tONE ROW PER MATCH\n",
    "\tAFTER MATCH SKIP PAST LAST ROW\n",
    "\tPATTERN(A B{0, 2} C)\n",
    "\tDEFINE\n",
    "\t\tB AS -100 * (B.close_price - A.close_price) / A.close_price < 8.0,\n",
    "\t    C AS 100 * (A.close_price - C.close_price) / A.close_price >= 8.0\n",
    ")"
   ]
  }
 ],
 "metadata": {
  "language_info": {
   "name": "python"
  }
 },
 "nbformat": 4,
 "nbformat_minor": 5
}
