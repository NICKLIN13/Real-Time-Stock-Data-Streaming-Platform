{
 "cells": [
  {
   "cell_type": "code",
   "execution_count": null,
   "id": "0ed0ff14",
   "metadata": {
    "vscode": {
     "languageId": "plaintext"
    }
   },
   "outputs": [],
   "source": [
    "%flink.ssql\n",
    "\n",
    "SELECT ticker, `date`, close_price, t.avg_close_price, t.ema_close_price\n",
    "FROM (\n",
    "\tSELECT ticker, `date`, close_price, \n",
    "\tAVG(close_price) OVER (\n",
    "\t\tPARTITION BY ticker\n",
    "\t\tORDER BY event_time\n",
    "\t\tROWS BETWEEN 9 PRECEDING AND CURRENT ROW\n",
    "\t) AS avg_close_price, \n",
    "\tEXP((SUM(LN(close_price)) OVER (\n",
    "\t\tPARTITION BY ticker\n",
    "\t\tORDER BY event_time\n",
    "\t\tROWS BETWEEN 9 PRECEDING AND CURRENT ROW\n",
    "\t) / 10 )) AS ema_close_price\n",
    "\tFROM stock_table\n",
    ") t\n",
    "WHERE close_price < t.ema_close_price"
   ]
  }
 ],
 "metadata": {
  "language_info": {
   "name": "python"
  }
 },
 "nbformat": 4,
 "nbformat_minor": 5
}
